{
  "nbformat": 4,
  "nbformat_minor": 0,
  "metadata": {
    "colab": {
      "provenance": [],
      "authorship_tag": "ABX9TyNvD+w0wDKYCsvjQ+lQUfQi",
      "include_colab_link": true
    },
    "kernelspec": {
      "name": "python3",
      "display_name": "Python 3"
    },
    "language_info": {
      "name": "python"
    }
  },
  "cells": [
    {
      "cell_type": "markdown",
      "metadata": {
        "id": "view-in-github",
        "colab_type": "text"
      },
      "source": [
        "<a href=\"https://colab.research.google.com/github/anoganteryannico/CPEN65-1/blob/main/ANOGANTE%2C_RYAN_NICO_PRELIM_.ipynb\" target=\"_parent\"><img src=\"https://colab.research.google.com/assets/colab-badge.svg\" alt=\"Open In Colab\"/></a>"
      ]
    },
    {
      "cell_type": "code",
      "source": [
        "#Finding the Area of the Rectangle\n",
        "\n",
        "class Rectangle:\n",
        "  def __init__(self, length, width):\n",
        "    self.length = length\n",
        "    self.width = width\n",
        "\n",
        "  def Area(self):\n",
        "    print(self.length*self.width)\n",
        "    \n",
        "rect = Rectangle(7,3)\n",
        "rect.Area()"
      ],
      "metadata": {
        "colab": {
          "base_uri": "https://localhost:8080/"
        },
        "id": "_JeE_iFa50Kg",
        "outputId": "38779bc7-7ebf-43bd-d766-db2d59f34921"
      },
      "execution_count": 6,
      "outputs": [
        {
          "output_type": "stream",
          "name": "stdout",
          "text": [
            "21\n"
          ]
        }
      ]
    },
    {
      "cell_type": "code",
      "execution_count": null,
      "metadata": {
        "colab": {
          "base_uri": "https://localhost:8080/"
        },
        "id": "hd2gXQv72nlN",
        "outputId": "1c7a6c7c-6379-45e7-cb00-dac154237607"
      },
      "outputs": [
        {
          "output_type": "stream",
          "name": "stdout",
          "text": [
            "Ana\n",
            "39\n"
          ]
        }
      ],
      "source": [
        "#Showing the Name and Age of Ana\n",
        "\n",
        "class Person:\n",
        "  def __init__ (self, name, age):\n",
        "    self.name = name\n",
        "    self.age = age\n",
        "\n",
        "person = Person(\"Ana\",39)\n",
        "print(person.name)\n",
        "print(person.age)"
      ]
    }
  ]
}