{
  "nbformat": 4,
  "nbformat_minor": 0,
  "metadata": {
    "colab": {
      "provenance": [],
      "authorship_tag": "ABX9TyMW4WZTdKzlXW5RhlzHNR2m",
      "include_colab_link": true
    },
    "kernelspec": {
      "name": "python3",
      "display_name": "Python 3"
    },
    "language_info": {
      "name": "python"
    }
  },
  "cells": [
    {
      "cell_type": "markdown",
      "metadata": {
        "id": "view-in-github",
        "colab_type": "text"
      },
      "source": [
        "<a href=\"https://colab.research.google.com/github/anoganteryannico/CPEN65-1/blob/main/Anogante%2C_Ryan_Nico_Midterms.ipynb\" target=\"_parent\"><img src=\"https://colab.research.google.com/assets/colab-badge.svg\" alt=\"Open In Colab\"/></a>"
      ]
    },
    {
      "cell_type": "markdown",
      "source": [
        "1.\tWrite a Python program to create an array of 10 integers and display the array items. Access individual elements through indexes and compute for the sum.\n",
        "\n"
      ],
      "metadata": {
        "id": "QDxuDc72a1Xn"
      }
    },
    {
      "cell_type": "code",
      "source": [
        "# Let say the integers are [-4, -3, -2, -1, 0, 1, 2, 3, 4, 5]\n",
        "import array as arr\n",
        "arr.typecodes\n",
        "\n",
        "a = arr.array('i',[-4, -3, -2, -1, 0, 1, 2, 3, 4, 5])\n",
        "print(a)\n",
        "ADD = sum(a)\n",
        "print(ADD)\n"
      ],
      "metadata": {
        "colab": {
          "base_uri": "https://localhost:8080/"
        },
        "id": "1Dttom5dd3hA",
        "outputId": "5bafe35e-177d-4f75-a85c-a033f48a1bff"
      },
      "execution_count": null,
      "outputs": [
        {
          "output_type": "stream",
          "name": "stdout",
          "text": [
            "array('i', [-4, -3, -2, -1, 0, 1, 2, 3, 4, 5])\n",
            "5\n"
          ]
        }
      ]
    },
    {
      "cell_type": "markdown",
      "source": [
        "2.\tWrite a Python program to append a new item to the end of the array. Original array: numbers = [1, 2, 3, 4, 5, 6, 7, 8, 9, 10]"
      ],
      "metadata": {
        "id": "N0CbQXqofFS-"
      }
    },
    {
      "cell_type": "code",
      "source": [
        "#Assume we are going to append the numbers 11, 12, 13, 14, 15\n",
        "\n",
        "import array as number\n",
        "number.typecodes\n",
        "\n",
        "n = number.array('i',[1, 2, 3, 4, 5, 6, 7, 8, 9, 10])\n",
        "print(n)\n",
        "\n",
        "n.append(11)\n",
        "print(n)\n",
        "\n",
        "n.append(12)\n",
        "print(n)\n",
        "\n",
        "n.append(13)\n",
        "print(n)\n",
        "\n",
        "n.append(14)\n",
        "print(n)\n",
        "\n",
        "n.append(15)\n",
        "print(n)"
      ],
      "metadata": {
        "colab": {
          "base_uri": "https://localhost:8080/"
        },
        "id": "kNM2A7gkfHV0",
        "outputId": "57989bc3-9ed3-4eb5-f189-36048d379925"
      },
      "execution_count": null,
      "outputs": [
        {
          "output_type": "stream",
          "name": "stdout",
          "text": [
            "array('i', [1, 2, 3, 4, 5, 6, 7, 8, 9, 10])\n",
            "array('i', [1, 2, 3, 4, 5, 6, 7, 8, 9, 10, 11])\n",
            "array('i', [1, 2, 3, 4, 5, 6, 7, 8, 9, 10, 11, 12])\n",
            "array('i', [1, 2, 3, 4, 5, 6, 7, 8, 9, 10, 11, 12, 13])\n",
            "array('i', [1, 2, 3, 4, 5, 6, 7, 8, 9, 10, 11, 12, 13, 14])\n",
            "array('i', [1, 2, 3, 4, 5, 6, 7, 8, 9, 10, 11, 12, 13, 14, 15])\n"
          ]
        }
      ]
    },
    {
      "cell_type": "markdown",
      "source": [
        "3.\tWrite a Python program to insert a new item before the last element in an existing array. Original array: numbers = [1, 2, 3, 4, 5, 6, 7, 8, 9, 10]"
      ],
      "metadata": {
        "id": "N2wxk73SghOI"
      }
    },
    {
      "cell_type": "code",
      "source": [
        "#Assume we are going to insert the numbers 11, 12, 13, 14, 15 before the element 9 which is 10\n",
        "\n",
        "import array as number\n",
        "number.typecodes\n",
        "\n",
        "n = number.array('i',[1, 2, 3, 4, 5, 6, 7, 8, 9, 10])\n",
        "print(n)\n",
        "\n",
        "n.insert(9,11)\n",
        "print(n)\n",
        "\n",
        "n.insert(10,12)\n",
        "print(n)\n",
        "\n",
        "n.insert(11,13)\n",
        "print(n)\n",
        "\n",
        "n.insert(12,14)\n",
        "print(n)\n",
        "\n",
        "n.insert(13,15)\n",
        "print(n)"
      ],
      "metadata": {
        "colab": {
          "base_uri": "https://localhost:8080/"
        },
        "id": "k_J7n52IgolM",
        "outputId": "ba3b34d3-5914-4dbb-ad0f-c48e4424f018"
      },
      "execution_count": null,
      "outputs": [
        {
          "output_type": "stream",
          "name": "stdout",
          "text": [
            "array('i', [1, 2, 3, 4, 5, 6, 7, 8, 9, 10])\n",
            "array('i', [1, 2, 3, 4, 5, 6, 7, 8, 9, 11, 10])\n",
            "array('i', [1, 2, 3, 4, 5, 6, 7, 8, 9, 11, 12, 10])\n",
            "array('i', [1, 2, 3, 4, 5, 6, 7, 8, 9, 11, 12, 13, 10])\n",
            "array('i', [1, 2, 3, 4, 5, 6, 7, 8, 9, 11, 12, 13, 14, 10])\n",
            "array('i', [1, 2, 3, 4, 5, 6, 7, 8, 9, 11, 12, 13, 14, 15, 10])\n"
          ]
        }
      ]
    },
    {
      "cell_type": "markdown",
      "source": [
        "4.\tWrite a Python program to reverse the order of the items in the array. Original array: numbers = [1, 2, 3, 4, 5]"
      ],
      "metadata": {
        "id": "NOKnZneQhjDv"
      }
    },
    {
      "cell_type": "code",
      "source": [
        "#the out should be [5,4,3,2,1]\n",
        "\n",
        "numbers = [1,2,3,4,5]\n",
        "print(numbers)\n",
        "numbers.reverse()\n",
        "print(numbers)"
      ],
      "metadata": {
        "colab": {
          "base_uri": "https://localhost:8080/"
        },
        "id": "L_beCrRZhped",
        "outputId": "6063adde-1c1f-4a53-e8b2-2da0c3d1783e"
      },
      "execution_count": null,
      "outputs": [
        {
          "output_type": "stream",
          "name": "stdout",
          "text": [
            "[1, 2, 3, 4, 5]\n",
            "[5, 4, 3, 2, 1]\n"
          ]
        }
      ]
    },
    {
      "cell_type": "markdown",
      "source": [
        "5.\tLet A be an array of size n ≥ 2 containing integers from 1 to n−1, inclusive, with exactly one repeated. Create an algorithm for finding the integer in A that is repeated."
      ],
      "metadata": {
        "id": "fDyEZ6Zrihki"
      }
    },
    {
      "cell_type": "code",
      "source": [
        "# the array size is 5, so the numbers = [1, 1, 2, 3, 4]\n",
        "\n",
        "class Node:\n",
        "  def __init__(self, data):\n",
        "    self.data = data\n",
        "    self.next = None\n",
        "\n",
        "class LinkedList:\n",
        "  def __init__(self):\n",
        "    self.head = None\n",
        "\n",
        "  def printlist(self):\n",
        "    temp = self.head\n",
        "    while(temp):\n",
        "      print(temp.data)\n",
        "      temp = temp.next\n",
        "\n",
        "llist = LinkedList()\n",
        "llist.head = Node(1)\n",
        "second = Node(1)\n",
        "third = Node(2)\n",
        "fourth =  Node(3)\n",
        "fifth = Node(4)\n",
        "\n",
        "llist.head.next = second \n",
        "second.next = third\n",
        "third.next = fourth\n",
        "fourth.next = fifth\n",
        "\n",
        "llist.printlist()"
      ],
      "metadata": {
        "colab": {
          "base_uri": "https://localhost:8080/"
        },
        "id": "MZa5NCOhikRl",
        "outputId": "b84b6c0b-fedf-414d-8424-16621e307a2f"
      },
      "execution_count": null,
      "outputs": [
        {
          "output_type": "stream",
          "name": "stdout",
          "text": [
            "1\n",
            "1\n",
            "2\n",
            "3\n",
            "4\n"
          ]
        }
      ]
    }
  ]
}